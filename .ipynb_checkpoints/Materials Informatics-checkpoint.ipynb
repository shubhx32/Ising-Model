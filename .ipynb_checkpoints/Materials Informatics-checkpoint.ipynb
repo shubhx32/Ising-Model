{
 "cells": [
  {
   "cell_type": "markdown",
   "metadata": {},
   "source": [
    "<h1>Ising model</h1>"
   ]
  },
  {
   "cell_type": "code",
   "execution_count": null,
   "metadata": {},
   "outputs": [],
   "source": [
    "%matplotlib inline\n",
    "import numpy as np\n",
    "from numpy.random import rand\n",
    "import matplotlib.pyplot as plt"
   ]
  },
  {
   "cell_type": "code",
   "execution_count": 4,
   "metadata": {},
   "outputs": [],
   "source": [
    "#----------------------------------------------------------------------\n",
    "##  BLOCK OF FUNCTIONS USED IN THE MAIN CODE\n",
    "#----------------------------------------------------------------------\n",
    "def initialstate(N):\n",
    "    ''' generates a random spin configuration for initial condition'''\n",
    "    state = 2*np.random.randint(2, size=(N,N))-1\n",
    "    return state\n",
    "\n",
    "def mcmove(config, beta):\n",
    "    '''Monte Carlo move using Metropolis algorithm '''\n",
    "    for i in range(N):\n",
    "        for j in range(N):\n",
    "            a = np.random.randint(0, N)\n",
    "            b = np.random.randint(0, N)\n",
    "            s =  config[a, b]\n",
    "            nb = config[(a+1)%N,b] + config[a,(b+1)%N] + config[(a-1)%N,b] + config[a,(b-1)%N]\n",
    "            cost = 2*s*nb\n",
    "            if cost < 0:\n",
    "                s *= -1\n",
    "            elif rand() < np.exp(-cost*beta):\n",
    "                s *= -1\n",
    "            config[a, b] = s\n",
    "    return config\n",
    "\n",
    "\n",
    "def calcEnergy(config):\n",
    "    '''Energy of a given configuration'''\n",
    "    energy = 0\n",
    "    for i in range(len(config)):\n",
    "        for j in range(len(config)):\n",
    "            S = config[i,j]\n",
    "            nb = config[(i+1)%N, j] + config[i,(j+1)%N] + config[(i-1)%N, j] + config[i,(j-1)%N]\n",
    "            energy += -nb*S\n",
    "    return energy/4.\n",
    "\n",
    "\n",
    "def calcMag(config):\n",
    "    '''Magnetization of a given configuration'''\n",
    "    mag = np.sum(config)\n",
    "    return mag"
   ]
  },
  {
   "cell_type": "code",
   "execution_count": 5,
   "metadata": {},
   "outputs": [],
   "source": [
    "## change these parameters for a smaller (faster) simulation\n",
    "nt      = 88         #  number of temperature points\n",
    "N       = 16         #  size of the lattice, N x N\n",
    "eqSteps = 1024       #  number of MC sweeps for equilibration\n",
    "mcSteps = 1024       #  number of MC sweeps for calculation\n",
    "\n",
    "T       = np.linspace(1.53, 3.28, nt);\n",
    "E,M,C,X = np.zeros(nt), np.zeros(nt), np.zeros(nt), np.zeros(nt)\n",
    "n1, n2  = 1.0/(mcSteps*N*N), 1.0/(mcSteps*mcSteps*N*N)\n",
    "# divide by number of samples, and by system size to get intensive values"
   ]
  },
  {
   "cell_type": "code",
   "execution_count": null,
   "metadata": {
    "pycharm": {
     "is_executing": true
    }
   },
   "outputs": [],
   "source": [
    "#----------------------------------------------------------------------\n",
    "#  MAIN PART OF THE CODE\n",
    "#----------------------------------------------------------------------\n",
    "for tt in range(nt):\n",
    "    E1 = M1 = E2 = M2 = 0\n",
    "    config = initialstate(N)\n",
    "    iT=1.0/T[tt]; iT2=iT*iT;\n",
    "\n",
    "    for i in range(eqSteps):         # equilibrate\n",
    "        mcmove(config, iT)           # Monte Carlo moves\n",
    "\n",
    "    for i in range(mcSteps):\n",
    "        mcmove(config, iT)\n",
    "        Ene = calcEnergy(config)     # calculate the energy\n",
    "        Mag = calcMag(config)        # calculate the magnetisation\n",
    "\n",
    "        E1 = E1 + Ene\n",
    "        M1 = M1 + Mag\n",
    "        M2 = M2 + Mag*Mag\n",
    "        E2 = E2 + Ene*Ene\n",
    "\n",
    "    E[tt] = n1*E1\n",
    "    M[tt] = n1*M1\n",
    "    C[tt] = (n1*E2 - n2*E1*E1)*iT2\n",
    "    X[tt] = (n1*M2 - n2*M1*M1)*iT"
   ]
  },
  {
   "cell_type": "code",
   "execution_count": null,
   "metadata": {
    "pycharm": {
     "is_executing": true
    }
   },
   "outputs": [],
   "source": [
    "f = plt.figure(figsize=(18, 10)); # plot the calculated values\n",
    "\n",
    "sp =  f.add_subplot(2, 2, 1 );\n",
    "plt.scatter(T, E, s=50, marker='o', color='IndianRed')\n",
    "plt.xlabel(\"Temperature (T)\", fontsize=20);\n",
    "plt.ylabel(\"Energy \", fontsize=20);         plt.axis('tight');\n",
    "\n",
    "sp =  f.add_subplot(2, 2, 2 );\n",
    "plt.scatter(T, abs(M), s=50, marker='o', color='RoyalBlue')\n",
    "plt.xlabel(\"Temperature (T)\", fontsize=20);\n",
    "plt.ylabel(\"Magnetization \", fontsize=20);   plt.axis('tight');\n",
    "\n",
    "sp =  f.add_subplot(2, 2, 3 );\n",
    "plt.scatter(T, C, s=50, marker='o', color='IndianRed')\n",
    "plt.xlabel(\"Temperature (T)\", fontsize=20);\n",
    "plt.ylabel(\"Specific Heat \", fontsize=20);   plt.axis('tight');\n",
    "\n",
    "sp =  f.add_subplot(2, 2, 4 );\n",
    "plt.scatter(T, X, s=50, marker='o', color='RoyalBlue')\n",
    "plt.xlabel(\"Temperature (T)\", fontsize=20);\n",
    "plt.ylabel(\"Susceptibility\", fontsize=20);   plt.axis('tight');"
   ]
  }
 ],
 "metadata": {
  "kernelspec": {
   "display_name": "Python 3 (ipykernel)",
   "language": "python",
   "name": "python3"
  },
  "language_info": {
   "codemirror_mode": {
    "name": "ipython",
    "version": 2
   },
   "file_extension": ".py",
   "mimetype": "text/x-python",
   "name": "python",
   "nbconvert_exporter": "python",
   "pygments_lexer": "ipython2",
   "version": "2.7.6"
  }
 },
 "nbformat": 4,
 "nbformat_minor": 1
}
